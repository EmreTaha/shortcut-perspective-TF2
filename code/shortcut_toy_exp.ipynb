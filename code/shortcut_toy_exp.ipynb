{
  "nbformat": 4,
  "nbformat_minor": 0,
  "metadata": {
    "colab": {
      "name": "shortcut_toy_exp.ipynb",
      "provenance": [],
      "collapsed_sections": []
    },
    "kernelspec": {
      "name": "python3",
      "display_name": "Python 3"
    },
    "accelerator": "GPU"
  },
  "cells": [
    {
      "cell_type": "code",
      "metadata": {
        "id": "ytfTg7Ra4e6E",
        "colab_type": "code",
        "colab": {}
      },
      "source": [
        "import numpy as np\n",
        "import matplotlib.pyplot as plt\n",
        "import IPython\n",
        "import IPython.display as display\n",
        "\n",
        "import tensorflow as tf\n",
        "from tensorflow import keras\n",
        "from tensorflow.keras import layers\n",
        "from tensorflow.keras.losses import binary_crossentropy\n",
        "\n",
        "import cv2"
      ],
      "execution_count": null,
      "outputs": []
    },
    {
      "cell_type": "code",
      "metadata": {
        "id": "5WuCSsfN4-dO",
        "colab_type": "code",
        "colab": {}
      },
      "source": [
        "# Train specification\n",
        "epochs = 100\n",
        "lr = 0.0001"
      ],
      "execution_count": null,
      "outputs": []
    },
    {
      "cell_type": "code",
      "metadata": {
        "id": "9NdQJABF5LA3",
        "colab_type": "code",
        "colab": {}
      },
      "source": [
        "bunny = np.load('bunny.npy')\n",
        "bunny = bunny\n",
        "\n",
        "cow = np.load('cow.npy')\n",
        "cow = cow\n",
        "# Normalized between 0-1"
      ],
      "execution_count": null,
      "outputs": []
    },
    {
      "cell_type": "code",
      "metadata": {
        "id": "J38RIkP95clI",
        "colab_type": "code",
        "colab": {}
      },
      "source": [
        "num_rows, num_cols = bunny.shape[:2]\n",
        "\n",
        "# bottom right: 46 39 to 60 70\n",
        "translation_matrix = np.float32([ [1,0,0], [0,1,0] ])\n",
        "img_translation = cv2.warpAffine(cow, translation_matrix, (num_cols, num_rows))\n",
        "plt.imshow(img_translation,cmap='gray')"
      ],
      "execution_count": null,
      "outputs": []
    },
    {
      "cell_type": "code",
      "metadata": {
        "id": "5y3hvRXD5gIG",
        "colab_type": "code",
        "colab": {}
      },
      "source": [
        "# Creates train data\n",
        "biased_train_bun = []\n",
        "biased_train_cow = []\n",
        "\n",
        "for i in range(1000):\n",
        "  \n",
        "  x_val = np.random.randint(46,60)\n",
        "  y_val = np.random.randint(39,70)\n",
        "  translation_matrix = np.float32([ [1,0,x_val], [0,1,y_val] ])\n",
        "  im = cv2.warpAffine(bunny, translation_matrix, (200, 200))\n",
        "  biased_train_bun.append(im)\n",
        "  x_val = np.random.randint(-53,-39)\n",
        "  y_val = np.random.randint(-65,-34)\n",
        "  translation_matrix = np.float32([ [1,0,x_val], [0,1,y_val] ])\n",
        "  im = cv2.warpAffine(bunny, translation_matrix, (200, 200))\n",
        "  biased_train_bun.append(im)\n",
        "  \n",
        "  y_val = np.random.randint(44,64)\n",
        "  x_val = np.random.randint(-46,-22)\n",
        "  translation_matrix = np.float32([ [1,0,x_val], [0,1,y_val] ])\n",
        "  im = cv2.warpAffine(cow, translation_matrix, (200, 200))\n",
        "  biased_train_cow.append(im)\n",
        "  y_val = np.random.randint(-56,-33)\n",
        "  x_val = np.random.randint(55,78)\n",
        "  translation_matrix = np.float32([ [1,0,x_val], [0,1,y_val] ])\n",
        "  im = cv2.warpAffine(cow, translation_matrix, (200, 200))\n",
        "  biased_train_cow.append(im)"
      ],
      "execution_count": null,
      "outputs": []
    },
    {
      "cell_type": "code",
      "metadata": {
        "id": "5dkWDcSvE-RK",
        "colab_type": "code",
        "colab": {}
      },
      "source": [
        "# Creates test data\n",
        "unbiased_train_bun = []\n",
        "unbiased_train_cow = []\n",
        "\n",
        "for i in range(2000):\n",
        "  \n",
        "  x_val = np.random.randint(-53,60)\n",
        "  y_val = np.random.randint(-65,70)\n",
        "  translation_matrix = np.float32([ [1,0,x_val], [0,1,y_val] ])\n",
        "  im = cv2.warpAffine(bunny, translation_matrix, (200, 200))\n",
        "  unbiased_train_bun.append(im)\n",
        "  \n",
        "  y_val = np.random.randint(-56,64)\n",
        "  x_val = np.random.randint(-46,78)\n",
        "  translation_matrix = np.float32([ [1,0,x_val], [0,1,y_val] ])\n",
        "  im = cv2.warpAffine(cow, translation_matrix, (200, 200))\n",
        "  unbiased_train_cow.append(im)"
      ],
      "execution_count": null,
      "outputs": []
    },
    {
      "cell_type": "code",
      "metadata": {
        "id": "FZ8VZhQgHsKp",
        "colab_type": "code",
        "colab": {}
      },
      "source": [
        "biased_train_cow = np.array(biased_train_cow)\n",
        "biased_train_bun = np.array(biased_train_bun)\n",
        "unbiased_train_cow = np.array(unbiased_train_cow)\n",
        "unbiased_train_bun = np.array(unbiased_train_bun)"
      ],
      "execution_count": null,
      "outputs": []
    },
    {
      "cell_type": "code",
      "metadata": {
        "id": "gAEFA4JTH1OA",
        "colab_type": "code",
        "colab": {}
      },
      "source": [
        "unbiased_squares = unbiased_train_cow\n",
        "unbiased_hearts = unbiased_train_bun\n",
        "biased_squares = biased_train_cow\n",
        "biased_hearts = biased_train_bun"
      ],
      "execution_count": null,
      "outputs": []
    },
    {
      "cell_type": "code",
      "metadata": {
        "id": "4FuY3p-GIn8r",
        "colab_type": "code",
        "colab": {}
      },
      "source": [
        "# Print and Save some examples\n",
        "some_unbiased_squares = biased_squares[:25]\n",
        "np.random.shuffle(some_unbiased_squares)\n",
        "\n",
        "x = 5\n",
        "y = 5\n",
        "\n",
        "fig,axarr = plt.subplots(x,y)\n",
        "\n",
        "for ax,im in zip(axarr.ravel(), np.float32(some_unbiased_squares)):\n",
        "    ax.axis('off')\n",
        "    ax.imshow(im,cmap = 'gray')\n",
        "\n",
        "fig.savefig('biased_stars.png')"
      ],
      "execution_count": null,
      "outputs": []
    },
    {
      "cell_type": "code",
      "metadata": {
        "id": "wquqQwdELhil",
        "colab_type": "code",
        "colab": {}
      },
      "source": [
        "# Prepare Training and Testing Data\n",
        "\n",
        "unbiased_data = np.concatenate((unbiased_squares,unbiased_hearts))\n",
        "unbiased_data = np.float32(unbiased_data)\n",
        "\n",
        "biased_data = np.concatenate((biased_squares,biased_hearts))\n",
        "biased_data = np.float32(biased_data)\n",
        "\n",
        "labels = np.concatenate((np.zeros(len(unbiased_squares)),np.ones(len(unbiased_squares))))\n",
        "\n",
        "# For the dense network \n",
        "train_images = np.reshape(biased_data,(-1, 200*200)).astype(\"float32\") \n",
        "train_dataset = tf.data.Dataset.from_tensor_slices((train_images,labels)).shuffle(200)\n",
        "train_dataset = train_dataset.batch(100)\n",
        "\n",
        "test_images = np.reshape(unbiased_data,(-1, 200*200)).astype(\"float32\")\n",
        "test_dataset = tf.data.Dataset.from_tensor_slices((test_images,labels))\n",
        "test_dataset = test_dataset.batch(100)\n",
        "\n",
        "# For the convolutional network \n",
        "train_images_cnn = np.reshape(biased_data,(-1, 200,200,1)).astype(\"float32\") \n",
        "train_dataset_cnn = tf.data.Dataset.from_tensor_slices((train_images_cnn,labels)).shuffle(200)\n",
        "train_dataset_cnn = train_dataset_cnn.batch(100)\n",
        "\n",
        "test_images_cnn = np.reshape(unbiased_data,(-1, 200,200,1)).astype(\"float32\")\n",
        "test_dataset_cnn = tf.data.Dataset.from_tensor_slices((test_images_cnn,labels))\n",
        "test_dataset_cnn = test_dataset_cnn.batch(100)"
      ],
      "execution_count": null,
      "outputs": []
    },
    {
      "cell_type": "code",
      "metadata": {
        "id": "pW8h_hgbL0NJ",
        "colab_type": "code",
        "colab": {}
      },
      "source": [
        "# Build Networks\n",
        "\n",
        "# Create the dense network\n",
        "DNN = keras.Sequential([\n",
        "    keras.Input(shape=200*200, name=\"dense_input\"),\n",
        "    layers.Dense(units=1024),\n",
        "    layers.ReLU(),\n",
        "    layers.Dense(units=1024),\n",
        "    layers.ReLU(),\n",
        "    layers.Dense(units=1, activation = \"sigmoid\")\n",
        "], name='dense')\n",
        "\n",
        "# Create the convolutional network v1\n",
        "CNN = keras.Sequential([\n",
        "    keras.Input(shape=(200,200,1), name=\"conv_input\"),\n",
        "    layers.Conv2D(32, (5, 5), strides=(1, 1), padding='same'),\n",
        "    layers.ReLU(),\n",
        "    layers.Conv2D(32, (5, 5), strides=(1, 1), padding='same'),\n",
        "    layers.ReLU(),\n",
        "    layers.Conv2D(32, (5, 5), strides=(1, 1), padding='same'),\n",
        "    layers.ReLU(),\n",
        "    layers.AveragePooling2D(200),\n",
        "    layers.Flatten(),\n",
        "    layers.Dense(units=1, activation = \"sigmoid\")\n",
        "], name='convnetwork')\n",
        "\n",
        "# Create the convolutional network v2\n",
        "CNN2 = keras.Sequential([\n",
        "    keras.Input(shape=(200,200,1), name=\"conv2_input\"),\n",
        "    layers.Conv2D(128, (5, 5), strides=(2, 2), padding='same'),\n",
        "    layers.ReLU(),\n",
        "    layers.Conv2D(128, (5, 5), strides=(2, 2), padding='same'),\n",
        "    layers.ReLU(),\n",
        "    layers.Conv2D(128, (5, 5), strides=(2, 2), padding='same'),\n",
        "    layers.ReLU(),\n",
        "    layers.AveragePooling2D(25),\n",
        "    layers.Flatten(),\n",
        "    layers.Dense(units=1, activation = \"sigmoid\")\n",
        "], name='convnetwork2')"
      ],
      "execution_count": null,
      "outputs": []
    },
    {
      "cell_type": "code",
      "metadata": {
        "id": "JmZ-XRPSU-bD",
        "colab_type": "code",
        "colab": {}
      },
      "source": [
        "# Compile and Train the dense model\n",
        "DNN.compile(\n",
        "    optimizer=keras.optimizers.Adam(lr),\n",
        "    loss=\"binary_crossentropy\",\n",
        "    metrics=[\"accuracy\"],\n",
        ")\n",
        "\n",
        "DNN.fit(train_dataset, epochs=epochs)\n",
        "\n",
        "score = DNN.evaluate(test_dataset, verbose=0)\n",
        "print(\"Dense network test loss:\", score[0])\n",
        "print(\"Dense network test accuracy:\", score[1])"
      ],
      "execution_count": null,
      "outputs": []
    }
  ]
}